{
 "cells": [
  {
   "cell_type": "code",
   "execution_count": 7,
   "metadata": {},
   "outputs": [
    {
     "name": "stdout",
     "output_type": "stream",
     "text": [
      "2\n",
      "5 1\n",
      "ABCAA\n",
      "Case #2: 0\n",
      "4 2\n",
      "ABAA\n",
      "Case #2: 1\n"
     ]
    }
   ],
   "source": [
    "#Round A 2021\n",
    "T=int(input())\n",
    "for loop in range(T):\n",
    "    L,K = input().split(' ')\n",
    "    k=int(K)\n",
    "    s = input().upper()\n",
    "    x=0\n",
    "    for i in range(int(len(s)/2)):\n",
    "\n",
    "        if(s[i] != s[-i-1]):\n",
    "            x+=1\n",
    "    if x==k:\n",
    "        x = 0\n",
    "    elif x>k:\n",
    "        x= x-k\n",
    "    elif x<k:\n",
    "        x=k-x\n",
    "    print(f\"Case #{loop}: {x}\")"
   ]
  },
  {
   "cell_type": "code",
   "execution_count": 31,
   "metadata": {},
   "outputs": [
    {
     "data": {
      "text/plain": [
       "35"
      ]
     },
     "execution_count": 31,
     "metadata": {},
     "output_type": "execute_result"
    }
   ],
   "source": [
    "int(len(s))\n"
   ]
  },
  {
   "cell_type": "code",
   "execution_count": null,
   "metadata": {},
   "outputs": [],
   "source": []
  }
 ],
 "metadata": {
  "kernelspec": {
   "display_name": "Python 3",
   "language": "python",
   "name": "python3"
  },
  "language_info": {
   "codemirror_mode": {
    "name": "ipython",
    "version": 3
   },
   "file_extension": ".py",
   "mimetype": "text/x-python",
   "name": "python",
   "nbconvert_exporter": "python",
   "pygments_lexer": "ipython3",
   "version": "3.8.5"
  }
 },
 "nbformat": 4,
 "nbformat_minor": 4
}
