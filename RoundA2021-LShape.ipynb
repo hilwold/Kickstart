{
 "cells": [
  {
   "cell_type": "code",
   "execution_count": 24,
   "metadata": {},
   "outputs": [
    {
     "name": "stdout",
     "output_type": "stream",
     "text": [
      "1\n",
      "4 3\n",
      "1 0 0\n",
      "1 0 1\n",
      "1 0 0\n",
      "1 1 0\n",
      "Case #0: 0\n"
     ]
    }
   ],
   "source": [
    "T=int(input())\n",
    "x = 0\n",
    "for loop in range(T):\n",
    "    R,C = input().split(' ')\n",
    "    R = int(R)\n",
    "    C = int(C)\n",
    "    s = []\n",
    "    for i in range(R):\n",
    "        s.append(input().split(' '))\n",
    "\n",
    "    \n",
    "    print(f\"Case #{loop}: {x}\")"
   ]
  },
  {
   "cell_type": "code",
   "execution_count": 25,
   "metadata": {},
   "outputs": [
    {
     "data": {
      "text/plain": [
       "[['1', '0', '0'], ['1', '0', '1'], ['1', '0', '0'], ['1', '1', '0']]"
      ]
     },
     "execution_count": 25,
     "metadata": {},
     "output_type": "execute_result"
    }
   ],
   "source": [
    "s\n"
   ]
  },
  {
   "cell_type": "code",
   "execution_count": 30,
   "metadata": {},
   "outputs": [
    {
     "name": "stdout",
     "output_type": "stream",
     "text": [
      "1\n",
      "0\n",
      "0\n",
      "1\n",
      "0\n",
      "1\n",
      "1\n",
      "0\n",
      "0\n",
      "1\n",
      "1\n",
      "0\n"
     ]
    }
   ],
   "source": [
    "for i in range(R):\n",
    "    for j in range(C):\n",
    "        print(s[i][j])\n",
    "        if s[i][j] == 1 :\n",
    "             while "
   ]
  },
  {
   "cell_type": "code",
   "execution_count": null,
   "metadata": {},
   "outputs": [],
   "source": []
  }
 ],
 "metadata": {
  "kernelspec": {
   "display_name": "Python 3",
   "language": "python",
   "name": "python3"
  },
  "language_info": {
   "codemirror_mode": {
    "name": "ipython",
    "version": 3
   },
   "file_extension": ".py",
   "mimetype": "text/x-python",
   "name": "python",
   "nbconvert_exporter": "python",
   "pygments_lexer": "ipython3",
   "version": "3.8.5"
  }
 },
 "nbformat": 4,
 "nbformat_minor": 4
}
